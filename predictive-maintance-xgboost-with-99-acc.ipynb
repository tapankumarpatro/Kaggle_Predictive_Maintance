{
 "cells": [
  {
   "cell_type": "code",
   "execution_count": 1,
   "id": "94b6ab85",
   "metadata": {
    "_cell_guid": "b1076dfc-b9ad-4769-8c92-a6c4dae69d19",
    "_uuid": "8f2839f25d086af736a60e9eeb907d3b93b6e0e5",
    "execution": {
     "iopub.execute_input": "2022-12-25T16:37:38.479960Z",
     "iopub.status.busy": "2022-12-25T16:37:38.479454Z",
     "iopub.status.idle": "2022-12-25T16:37:38.499428Z",
     "shell.execute_reply": "2022-12-25T16:37:38.498355Z"
    },
    "papermill": {
     "duration": 0.034637,
     "end_time": "2022-12-25T16:37:38.502630",
     "exception": false,
     "start_time": "2022-12-25T16:37:38.467993",
     "status": "completed"
    },
    "tags": []
   },
   "outputs": [
    {
     "name": "stdout",
     "output_type": "stream",
     "text": [
      "/kaggle/input/machine-predictive-maintenance-classification/predictive_maintenance.csv\n"
     ]
    }
   ],
   "source": [
    "# This Python 3 environment comes with many helpful analytics libraries installed\n",
    "# It is defined by the kaggle/python Docker image: https://github.com/kaggle/docker-python\n",
    "# For example, here's several helpful packages to load\n",
    "\n",
    "import numpy as np # linear algebra\n",
    "import pandas as pd # data processing, CSV file I/O (e.g. pd.read_csv)\n",
    "\n",
    "# Input data files are available in the read-only \"../input/\" directory\n",
    "# For example, running this (by clicking run or pressing Shift+Enter) will list all files under the input directory\n",
    "\n",
    "import os\n",
    "for dirname, _, filenames in os.walk('/kaggle/input'):\n",
    "    for filename in filenames:\n",
    "        print(os.path.join(dirname, filename))\n",
    "\n",
    "# You can write up to 20GB to the current directory (/kaggle/working/) that gets preserved as output when you create a version using \"Save & Run All\" \n",
    "# You can also write temporary files to /kaggle/temp/, but they won't be saved outside of the current session"
   ]
  },
  {
   "cell_type": "code",
   "execution_count": 2,
   "id": "d1b33fb6",
   "metadata": {
    "execution": {
     "iopub.execute_input": "2022-12-25T16:37:38.519567Z",
     "iopub.status.busy": "2022-12-25T16:37:38.519108Z",
     "iopub.status.idle": "2022-12-25T16:37:38.565597Z",
     "shell.execute_reply": "2022-12-25T16:37:38.564381Z"
    },
    "papermill": {
     "duration": 0.058253,
     "end_time": "2022-12-25T16:37:38.568688",
     "exception": false,
     "start_time": "2022-12-25T16:37:38.510435",
     "status": "completed"
    },
    "tags": []
   },
   "outputs": [],
   "source": [
    "df = pd.read_csv(\"/kaggle/input/machine-predictive-maintenance-classification/predictive_maintenance.csv\")"
   ]
  },
  {
   "cell_type": "code",
   "execution_count": 3,
   "id": "27c46105",
   "metadata": {
    "execution": {
     "iopub.execute_input": "2022-12-25T16:37:38.585746Z",
     "iopub.status.busy": "2022-12-25T16:37:38.584769Z",
     "iopub.status.idle": "2022-12-25T16:37:38.619961Z",
     "shell.execute_reply": "2022-12-25T16:37:38.618693Z"
    },
    "papermill": {
     "duration": 0.046831,
     "end_time": "2022-12-25T16:37:38.622859",
     "exception": false,
     "start_time": "2022-12-25T16:37:38.576028",
     "status": "completed"
    },
    "tags": []
   },
   "outputs": [
    {
     "data": {
      "text/html": [
       "<div>\n",
       "<style scoped>\n",
       "    .dataframe tbody tr th:only-of-type {\n",
       "        vertical-align: middle;\n",
       "    }\n",
       "\n",
       "    .dataframe tbody tr th {\n",
       "        vertical-align: top;\n",
       "    }\n",
       "\n",
       "    .dataframe thead th {\n",
       "        text-align: right;\n",
       "    }\n",
       "</style>\n",
       "<table border=\"1\" class=\"dataframe\">\n",
       "  <thead>\n",
       "    <tr style=\"text-align: right;\">\n",
       "      <th></th>\n",
       "      <th>UDI</th>\n",
       "      <th>Product ID</th>\n",
       "      <th>Type</th>\n",
       "      <th>Air temperature [K]</th>\n",
       "      <th>Process temperature [K]</th>\n",
       "      <th>Rotational speed [rpm]</th>\n",
       "      <th>Torque [Nm]</th>\n",
       "      <th>Tool wear [min]</th>\n",
       "      <th>Target</th>\n",
       "      <th>Failure Type</th>\n",
       "    </tr>\n",
       "  </thead>\n",
       "  <tbody>\n",
       "    <tr>\n",
       "      <th>0</th>\n",
       "      <td>1</td>\n",
       "      <td>M14860</td>\n",
       "      <td>M</td>\n",
       "      <td>298.1</td>\n",
       "      <td>308.6</td>\n",
       "      <td>1551</td>\n",
       "      <td>42.8</td>\n",
       "      <td>0</td>\n",
       "      <td>0</td>\n",
       "      <td>No Failure</td>\n",
       "    </tr>\n",
       "    <tr>\n",
       "      <th>1</th>\n",
       "      <td>2</td>\n",
       "      <td>L47181</td>\n",
       "      <td>L</td>\n",
       "      <td>298.2</td>\n",
       "      <td>308.7</td>\n",
       "      <td>1408</td>\n",
       "      <td>46.3</td>\n",
       "      <td>3</td>\n",
       "      <td>0</td>\n",
       "      <td>No Failure</td>\n",
       "    </tr>\n",
       "    <tr>\n",
       "      <th>2</th>\n",
       "      <td>3</td>\n",
       "      <td>L47182</td>\n",
       "      <td>L</td>\n",
       "      <td>298.1</td>\n",
       "      <td>308.5</td>\n",
       "      <td>1498</td>\n",
       "      <td>49.4</td>\n",
       "      <td>5</td>\n",
       "      <td>0</td>\n",
       "      <td>No Failure</td>\n",
       "    </tr>\n",
       "    <tr>\n",
       "      <th>3</th>\n",
       "      <td>4</td>\n",
       "      <td>L47183</td>\n",
       "      <td>L</td>\n",
       "      <td>298.2</td>\n",
       "      <td>308.6</td>\n",
       "      <td>1433</td>\n",
       "      <td>39.5</td>\n",
       "      <td>7</td>\n",
       "      <td>0</td>\n",
       "      <td>No Failure</td>\n",
       "    </tr>\n",
       "    <tr>\n",
       "      <th>4</th>\n",
       "      <td>5</td>\n",
       "      <td>L47184</td>\n",
       "      <td>L</td>\n",
       "      <td>298.2</td>\n",
       "      <td>308.7</td>\n",
       "      <td>1408</td>\n",
       "      <td>40.0</td>\n",
       "      <td>9</td>\n",
       "      <td>0</td>\n",
       "      <td>No Failure</td>\n",
       "    </tr>\n",
       "  </tbody>\n",
       "</table>\n",
       "</div>"
      ],
      "text/plain": [
       "   UDI Product ID Type  Air temperature [K]  Process temperature [K]  \\\n",
       "0    1     M14860    M                298.1                    308.6   \n",
       "1    2     L47181    L                298.2                    308.7   \n",
       "2    3     L47182    L                298.1                    308.5   \n",
       "3    4     L47183    L                298.2                    308.6   \n",
       "4    5     L47184    L                298.2                    308.7   \n",
       "\n",
       "   Rotational speed [rpm]  Torque [Nm]  Tool wear [min]  Target Failure Type  \n",
       "0                    1551         42.8                0       0   No Failure  \n",
       "1                    1408         46.3                3       0   No Failure  \n",
       "2                    1498         49.4                5       0   No Failure  \n",
       "3                    1433         39.5                7       0   No Failure  \n",
       "4                    1408         40.0                9       0   No Failure  "
      ]
     },
     "execution_count": 3,
     "metadata": {},
     "output_type": "execute_result"
    }
   ],
   "source": [
    "df.head()"
   ]
  },
  {
   "cell_type": "code",
   "execution_count": 4,
   "id": "8c63ed15",
   "metadata": {
    "execution": {
     "iopub.execute_input": "2022-12-25T16:37:38.639969Z",
     "iopub.status.busy": "2022-12-25T16:37:38.639564Z",
     "iopub.status.idle": "2022-12-25T16:37:38.655288Z",
     "shell.execute_reply": "2022-12-25T16:37:38.654021Z"
    },
    "papermill": {
     "duration": 0.027417,
     "end_time": "2022-12-25T16:37:38.657935",
     "exception": false,
     "start_time": "2022-12-25T16:37:38.630518",
     "status": "completed"
    },
    "tags": []
   },
   "outputs": [
    {
     "data": {
      "text/plain": [
       "No Failure                  9652\n",
       "Heat Dissipation Failure     112\n",
       "Power Failure                 95\n",
       "Overstrain Failure            78\n",
       "Tool Wear Failure             45\n",
       "Random Failures               18\n",
       "Name: Failure Type, dtype: int64"
      ]
     },
     "execution_count": 4,
     "metadata": {},
     "output_type": "execute_result"
    }
   ],
   "source": [
    "## Looking at type of failure\n",
    "df[\"Failure Type\"].value_counts()"
   ]
  },
  {
   "cell_type": "code",
   "execution_count": 5,
   "id": "92940a61",
   "metadata": {
    "execution": {
     "iopub.execute_input": "2022-12-25T16:37:38.676626Z",
     "iopub.status.busy": "2022-12-25T16:37:38.675897Z",
     "iopub.status.idle": "2022-12-25T16:37:38.686105Z",
     "shell.execute_reply": "2022-12-25T16:37:38.684799Z"
    },
    "papermill": {
     "duration": 0.022695,
     "end_time": "2022-12-25T16:37:38.689091",
     "exception": false,
     "start_time": "2022-12-25T16:37:38.666396",
     "status": "completed"
    },
    "tags": []
   },
   "outputs": [],
   "source": [
    "## As there is a failure of \"Heat Dissipation Failure\" having more than other failure, will consider taking as Binary classification where my model can identify the Heat failure or Not a failure\n",
    "df.loc[df[\"Failure Type\"] == \"Heat Dissipation Failure\", \"Output\"] = 1\n",
    "df.loc[df[\"Failure Type\"] != \"Heat Dissipation Failure\", \"Output\"] = 0"
   ]
  },
  {
   "cell_type": "code",
   "execution_count": 6,
   "id": "63762048",
   "metadata": {
    "execution": {
     "iopub.execute_input": "2022-12-25T16:37:38.708222Z",
     "iopub.status.busy": "2022-12-25T16:37:38.707514Z",
     "iopub.status.idle": "2022-12-25T16:37:38.720563Z",
     "shell.execute_reply": "2022-12-25T16:37:38.719351Z"
    },
    "papermill": {
     "duration": 0.024563,
     "end_time": "2022-12-25T16:37:38.722966",
     "exception": false,
     "start_time": "2022-12-25T16:37:38.698403",
     "status": "completed"
    },
    "tags": []
   },
   "outputs": [
    {
     "data": {
      "text/plain": [
       "0.0    9888\n",
       "1.0     112\n",
       "Name: Output, dtype: int64"
      ]
     },
     "execution_count": 6,
     "metadata": {},
     "output_type": "execute_result"
    }
   ],
   "source": [
    "df[\"Output\"].value_counts()"
   ]
  },
  {
   "cell_type": "code",
   "execution_count": 7,
   "id": "5e4c6d68",
   "metadata": {
    "execution": {
     "iopub.execute_input": "2022-12-25T16:37:38.740615Z",
     "iopub.status.busy": "2022-12-25T16:37:38.739907Z",
     "iopub.status.idle": "2022-12-25T16:37:38.754292Z",
     "shell.execute_reply": "2022-12-25T16:37:38.753062Z"
    },
    "papermill": {
     "duration": 0.025941,
     "end_time": "2022-12-25T16:37:38.756708",
     "exception": false,
     "start_time": "2022-12-25T16:37:38.730767",
     "status": "completed"
    },
    "tags": []
   },
   "outputs": [
    {
     "data": {
      "text/plain": [
       "M14860    1\n",
       "L53850    1\n",
       "L53843    1\n",
       "L53844    1\n",
       "L53845    1\n",
       "         ..\n",
       "M18193    1\n",
       "M18194    1\n",
       "L50515    1\n",
       "L50516    1\n",
       "M24859    1\n",
       "Name: Product ID, Length: 10000, dtype: int64"
      ]
     },
     "execution_count": 7,
     "metadata": {},
     "output_type": "execute_result"
    }
   ],
   "source": [
    "df[\"Product ID\"].value_counts()"
   ]
  },
  {
   "cell_type": "markdown",
   "id": "cf8b0693",
   "metadata": {
    "papermill": {
     "duration": 0.007391,
     "end_time": "2022-12-25T16:37:38.771857",
     "exception": false,
     "start_time": "2022-12-25T16:37:38.764466",
     "status": "completed"
    },
    "tags": []
   },
   "source": [
    "#### AS the product id column is having all unique value, and only shows indivisual id's droping the column"
   ]
  },
  {
   "cell_type": "code",
   "execution_count": 8,
   "id": "577866bd",
   "metadata": {
    "execution": {
     "iopub.execute_input": "2022-12-25T16:37:38.790286Z",
     "iopub.status.busy": "2022-12-25T16:37:38.789818Z",
     "iopub.status.idle": "2022-12-25T16:37:38.802191Z",
     "shell.execute_reply": "2022-12-25T16:37:38.801158Z"
    },
    "papermill": {
     "duration": 0.025148,
     "end_time": "2022-12-25T16:37:38.805036",
     "exception": false,
     "start_time": "2022-12-25T16:37:38.779888",
     "status": "completed"
    },
    "tags": []
   },
   "outputs": [],
   "source": [
    "df.drop([\"Product ID\", \"UDI\", \"Failure Type\"], inplace=True,axis=1)"
   ]
  },
  {
   "cell_type": "code",
   "execution_count": 9,
   "id": "1138968a",
   "metadata": {
    "execution": {
     "iopub.execute_input": "2022-12-25T16:37:38.822969Z",
     "iopub.status.busy": "2022-12-25T16:37:38.822189Z",
     "iopub.status.idle": "2022-12-25T16:37:38.836845Z",
     "shell.execute_reply": "2022-12-25T16:37:38.835988Z"
    },
    "papermill": {
     "duration": 0.026466,
     "end_time": "2022-12-25T16:37:38.839372",
     "exception": false,
     "start_time": "2022-12-25T16:37:38.812906",
     "status": "completed"
    },
    "tags": []
   },
   "outputs": [
    {
     "data": {
      "text/html": [
       "<div>\n",
       "<style scoped>\n",
       "    .dataframe tbody tr th:only-of-type {\n",
       "        vertical-align: middle;\n",
       "    }\n",
       "\n",
       "    .dataframe tbody tr th {\n",
       "        vertical-align: top;\n",
       "    }\n",
       "\n",
       "    .dataframe thead th {\n",
       "        text-align: right;\n",
       "    }\n",
       "</style>\n",
       "<table border=\"1\" class=\"dataframe\">\n",
       "  <thead>\n",
       "    <tr style=\"text-align: right;\">\n",
       "      <th></th>\n",
       "      <th>Type</th>\n",
       "      <th>Air temperature [K]</th>\n",
       "      <th>Process temperature [K]</th>\n",
       "      <th>Rotational speed [rpm]</th>\n",
       "      <th>Torque [Nm]</th>\n",
       "      <th>Tool wear [min]</th>\n",
       "      <th>Target</th>\n",
       "      <th>Output</th>\n",
       "    </tr>\n",
       "  </thead>\n",
       "  <tbody>\n",
       "    <tr>\n",
       "      <th>0</th>\n",
       "      <td>M</td>\n",
       "      <td>298.1</td>\n",
       "      <td>308.6</td>\n",
       "      <td>1551</td>\n",
       "      <td>42.8</td>\n",
       "      <td>0</td>\n",
       "      <td>0</td>\n",
       "      <td>0.0</td>\n",
       "    </tr>\n",
       "    <tr>\n",
       "      <th>1</th>\n",
       "      <td>L</td>\n",
       "      <td>298.2</td>\n",
       "      <td>308.7</td>\n",
       "      <td>1408</td>\n",
       "      <td>46.3</td>\n",
       "      <td>3</td>\n",
       "      <td>0</td>\n",
       "      <td>0.0</td>\n",
       "    </tr>\n",
       "    <tr>\n",
       "      <th>2</th>\n",
       "      <td>L</td>\n",
       "      <td>298.1</td>\n",
       "      <td>308.5</td>\n",
       "      <td>1498</td>\n",
       "      <td>49.4</td>\n",
       "      <td>5</td>\n",
       "      <td>0</td>\n",
       "      <td>0.0</td>\n",
       "    </tr>\n",
       "    <tr>\n",
       "      <th>3</th>\n",
       "      <td>L</td>\n",
       "      <td>298.2</td>\n",
       "      <td>308.6</td>\n",
       "      <td>1433</td>\n",
       "      <td>39.5</td>\n",
       "      <td>7</td>\n",
       "      <td>0</td>\n",
       "      <td>0.0</td>\n",
       "    </tr>\n",
       "    <tr>\n",
       "      <th>4</th>\n",
       "      <td>L</td>\n",
       "      <td>298.2</td>\n",
       "      <td>308.7</td>\n",
       "      <td>1408</td>\n",
       "      <td>40.0</td>\n",
       "      <td>9</td>\n",
       "      <td>0</td>\n",
       "      <td>0.0</td>\n",
       "    </tr>\n",
       "  </tbody>\n",
       "</table>\n",
       "</div>"
      ],
      "text/plain": [
       "  Type  Air temperature [K]  Process temperature [K]  Rotational speed [rpm]  \\\n",
       "0    M                298.1                    308.6                    1551   \n",
       "1    L                298.2                    308.7                    1408   \n",
       "2    L                298.1                    308.5                    1498   \n",
       "3    L                298.2                    308.6                    1433   \n",
       "4    L                298.2                    308.7                    1408   \n",
       "\n",
       "   Torque [Nm]  Tool wear [min]  Target  Output  \n",
       "0         42.8                0       0     0.0  \n",
       "1         46.3                3       0     0.0  \n",
       "2         49.4                5       0     0.0  \n",
       "3         39.5                7       0     0.0  \n",
       "4         40.0                9       0     0.0  "
      ]
     },
     "execution_count": 9,
     "metadata": {},
     "output_type": "execute_result"
    }
   ],
   "source": [
    "df.head()"
   ]
  },
  {
   "cell_type": "code",
   "execution_count": 10,
   "id": "9f516a66",
   "metadata": {
    "execution": {
     "iopub.execute_input": "2022-12-25T16:37:38.858493Z",
     "iopub.status.busy": "2022-12-25T16:37:38.857787Z",
     "iopub.status.idle": "2022-12-25T16:37:38.866225Z",
     "shell.execute_reply": "2022-12-25T16:37:38.865007Z"
    },
    "papermill": {
     "duration": 0.021358,
     "end_time": "2022-12-25T16:37:38.869154",
     "exception": false,
     "start_time": "2022-12-25T16:37:38.847796",
     "status": "completed"
    },
    "tags": []
   },
   "outputs": [
    {
     "data": {
      "text/plain": [
       "0    9661\n",
       "1     339\n",
       "Name: Target, dtype: int64"
      ]
     },
     "execution_count": 10,
     "metadata": {},
     "output_type": "execute_result"
    }
   ],
   "source": [
    "df[\"Target\"].value_counts()"
   ]
  },
  {
   "cell_type": "code",
   "execution_count": 11,
   "id": "f88661d4",
   "metadata": {
    "execution": {
     "iopub.execute_input": "2022-12-25T16:37:38.888044Z",
     "iopub.status.busy": "2022-12-25T16:37:38.887546Z",
     "iopub.status.idle": "2022-12-25T16:37:38.892918Z",
     "shell.execute_reply": "2022-12-25T16:37:38.891675Z"
    },
    "papermill": {
     "duration": 0.018177,
     "end_time": "2022-12-25T16:37:38.895801",
     "exception": false,
     "start_time": "2022-12-25T16:37:38.877624",
     "status": "completed"
    },
    "tags": []
   },
   "outputs": [],
   "source": [
    "### For this iterations we are not taking Target as final lable, because 339 failures are mixed up, and a Heat failure could be much different from a power failure."
   ]
  },
  {
   "cell_type": "code",
   "execution_count": 12,
   "id": "257696f9",
   "metadata": {
    "execution": {
     "iopub.execute_input": "2022-12-25T16:37:38.915181Z",
     "iopub.status.busy": "2022-12-25T16:37:38.914411Z",
     "iopub.status.idle": "2022-12-25T16:37:38.920778Z",
     "shell.execute_reply": "2022-12-25T16:37:38.919543Z"
    },
    "papermill": {
     "duration": 0.019107,
     "end_time": "2022-12-25T16:37:38.923363",
     "exception": false,
     "start_time": "2022-12-25T16:37:38.904256",
     "status": "completed"
    },
    "tags": []
   },
   "outputs": [],
   "source": [
    "df.drop([\"Target\"], inplace=True,axis=1)"
   ]
  },
  {
   "cell_type": "code",
   "execution_count": 13,
   "id": "88025b30",
   "metadata": {
    "execution": {
     "iopub.execute_input": "2022-12-25T16:37:38.942052Z",
     "iopub.status.busy": "2022-12-25T16:37:38.941296Z",
     "iopub.status.idle": "2022-12-25T16:37:38.957218Z",
     "shell.execute_reply": "2022-12-25T16:37:38.956049Z"
    },
    "papermill": {
     "duration": 0.028589,
     "end_time": "2022-12-25T16:37:38.960121",
     "exception": false,
     "start_time": "2022-12-25T16:37:38.931532",
     "status": "completed"
    },
    "tags": []
   },
   "outputs": [
    {
     "data": {
      "text/html": [
       "<div>\n",
       "<style scoped>\n",
       "    .dataframe tbody tr th:only-of-type {\n",
       "        vertical-align: middle;\n",
       "    }\n",
       "\n",
       "    .dataframe tbody tr th {\n",
       "        vertical-align: top;\n",
       "    }\n",
       "\n",
       "    .dataframe thead th {\n",
       "        text-align: right;\n",
       "    }\n",
       "</style>\n",
       "<table border=\"1\" class=\"dataframe\">\n",
       "  <thead>\n",
       "    <tr style=\"text-align: right;\">\n",
       "      <th></th>\n",
       "      <th>Type</th>\n",
       "      <th>Air temperature [K]</th>\n",
       "      <th>Process temperature [K]</th>\n",
       "      <th>Rotational speed [rpm]</th>\n",
       "      <th>Torque [Nm]</th>\n",
       "      <th>Tool wear [min]</th>\n",
       "      <th>Output</th>\n",
       "    </tr>\n",
       "  </thead>\n",
       "  <tbody>\n",
       "    <tr>\n",
       "      <th>0</th>\n",
       "      <td>M</td>\n",
       "      <td>298.1</td>\n",
       "      <td>308.6</td>\n",
       "      <td>1551</td>\n",
       "      <td>42.8</td>\n",
       "      <td>0</td>\n",
       "      <td>0.0</td>\n",
       "    </tr>\n",
       "    <tr>\n",
       "      <th>1</th>\n",
       "      <td>L</td>\n",
       "      <td>298.2</td>\n",
       "      <td>308.7</td>\n",
       "      <td>1408</td>\n",
       "      <td>46.3</td>\n",
       "      <td>3</td>\n",
       "      <td>0.0</td>\n",
       "    </tr>\n",
       "    <tr>\n",
       "      <th>2</th>\n",
       "      <td>L</td>\n",
       "      <td>298.1</td>\n",
       "      <td>308.5</td>\n",
       "      <td>1498</td>\n",
       "      <td>49.4</td>\n",
       "      <td>5</td>\n",
       "      <td>0.0</td>\n",
       "    </tr>\n",
       "    <tr>\n",
       "      <th>3</th>\n",
       "      <td>L</td>\n",
       "      <td>298.2</td>\n",
       "      <td>308.6</td>\n",
       "      <td>1433</td>\n",
       "      <td>39.5</td>\n",
       "      <td>7</td>\n",
       "      <td>0.0</td>\n",
       "    </tr>\n",
       "    <tr>\n",
       "      <th>4</th>\n",
       "      <td>L</td>\n",
       "      <td>298.2</td>\n",
       "      <td>308.7</td>\n",
       "      <td>1408</td>\n",
       "      <td>40.0</td>\n",
       "      <td>9</td>\n",
       "      <td>0.0</td>\n",
       "    </tr>\n",
       "  </tbody>\n",
       "</table>\n",
       "</div>"
      ],
      "text/plain": [
       "  Type  Air temperature [K]  Process temperature [K]  Rotational speed [rpm]  \\\n",
       "0    M                298.1                    308.6                    1551   \n",
       "1    L                298.2                    308.7                    1408   \n",
       "2    L                298.1                    308.5                    1498   \n",
       "3    L                298.2                    308.6                    1433   \n",
       "4    L                298.2                    308.7                    1408   \n",
       "\n",
       "   Torque [Nm]  Tool wear [min]  Output  \n",
       "0         42.8                0     0.0  \n",
       "1         46.3                3     0.0  \n",
       "2         49.4                5     0.0  \n",
       "3         39.5                7     0.0  \n",
       "4         40.0                9     0.0  "
      ]
     },
     "execution_count": 13,
     "metadata": {},
     "output_type": "execute_result"
    }
   ],
   "source": [
    "df.head()"
   ]
  },
  {
   "cell_type": "code",
   "execution_count": 14,
   "id": "a0728ea6",
   "metadata": {
    "execution": {
     "iopub.execute_input": "2022-12-25T16:37:38.979830Z",
     "iopub.status.busy": "2022-12-25T16:37:38.978625Z",
     "iopub.status.idle": "2022-12-25T16:37:38.989122Z",
     "shell.execute_reply": "2022-12-25T16:37:38.987838Z"
    },
    "papermill": {
     "duration": 0.022956,
     "end_time": "2022-12-25T16:37:38.991590",
     "exception": false,
     "start_time": "2022-12-25T16:37:38.968634",
     "status": "completed"
    },
    "tags": []
   },
   "outputs": [
    {
     "data": {
      "text/plain": [
       "L    6000\n",
       "M    2997\n",
       "H    1003\n",
       "Name: Type, dtype: int64"
      ]
     },
     "execution_count": 14,
     "metadata": {},
     "output_type": "execute_result"
    }
   ],
   "source": [
    "df[\"Type\"].value_counts()"
   ]
  },
  {
   "cell_type": "code",
   "execution_count": 15,
   "id": "709ba03f",
   "metadata": {
    "execution": {
     "iopub.execute_input": "2022-12-25T16:37:39.011410Z",
     "iopub.status.busy": "2022-12-25T16:37:39.010698Z",
     "iopub.status.idle": "2022-12-25T16:37:39.022765Z",
     "shell.execute_reply": "2022-12-25T16:37:39.021815Z"
    },
    "papermill": {
     "duration": 0.02505,
     "end_time": "2022-12-25T16:37:39.025298",
     "exception": false,
     "start_time": "2022-12-25T16:37:39.000248",
     "status": "completed"
    },
    "tags": []
   },
   "outputs": [],
   "source": [
    "### Encoding Type\n",
    "df = pd.get_dummies(df, prefix=['Type'])"
   ]
  },
  {
   "cell_type": "code",
   "execution_count": 16,
   "id": "d69c8993",
   "metadata": {
    "execution": {
     "iopub.execute_input": "2022-12-25T16:37:39.044648Z",
     "iopub.status.busy": "2022-12-25T16:37:39.043989Z",
     "iopub.status.idle": "2022-12-25T16:37:39.054670Z",
     "shell.execute_reply": "2022-12-25T16:37:39.053684Z"
    },
    "papermill": {
     "duration": 0.023521,
     "end_time": "2022-12-25T16:37:39.057337",
     "exception": false,
     "start_time": "2022-12-25T16:37:39.033816",
     "status": "completed"
    },
    "tags": []
   },
   "outputs": [],
   "source": [
    "### Creating past columns as refrence as the failure can be related or occured from past\n",
    "\n",
    "# As we are working on Heat Failure temp is somehting can get more info\n",
    "\n",
    "df['Air_mean_avg'] = df[\"Air temperature [K]\"].rolling(window=5).mean()\n",
    "df['process_mean_avg'] = df[\"Process temperature [K]\"].rolling(window=5).mean()"
   ]
  },
  {
   "cell_type": "code",
   "execution_count": 17,
   "id": "a4dbce35",
   "metadata": {
    "execution": {
     "iopub.execute_input": "2022-12-25T16:37:39.077125Z",
     "iopub.status.busy": "2022-12-25T16:37:39.076468Z",
     "iopub.status.idle": "2022-12-25T16:37:39.094872Z",
     "shell.execute_reply": "2022-12-25T16:37:39.093529Z"
    },
    "papermill": {
     "duration": 0.031452,
     "end_time": "2022-12-25T16:37:39.097796",
     "exception": false,
     "start_time": "2022-12-25T16:37:39.066344",
     "status": "completed"
    },
    "tags": []
   },
   "outputs": [
    {
     "data": {
      "text/html": [
       "<div>\n",
       "<style scoped>\n",
       "    .dataframe tbody tr th:only-of-type {\n",
       "        vertical-align: middle;\n",
       "    }\n",
       "\n",
       "    .dataframe tbody tr th {\n",
       "        vertical-align: top;\n",
       "    }\n",
       "\n",
       "    .dataframe thead th {\n",
       "        text-align: right;\n",
       "    }\n",
       "</style>\n",
       "<table border=\"1\" class=\"dataframe\">\n",
       "  <thead>\n",
       "    <tr style=\"text-align: right;\">\n",
       "      <th></th>\n",
       "      <th>Air temperature [K]</th>\n",
       "      <th>Process temperature [K]</th>\n",
       "      <th>Rotational speed [rpm]</th>\n",
       "      <th>Torque [Nm]</th>\n",
       "      <th>Tool wear [min]</th>\n",
       "      <th>Output</th>\n",
       "      <th>Type_H</th>\n",
       "      <th>Type_L</th>\n",
       "      <th>Type_M</th>\n",
       "      <th>Air_mean_avg</th>\n",
       "      <th>process_mean_avg</th>\n",
       "    </tr>\n",
       "  </thead>\n",
       "  <tbody>\n",
       "    <tr>\n",
       "      <th>0</th>\n",
       "      <td>298.1</td>\n",
       "      <td>308.6</td>\n",
       "      <td>1551</td>\n",
       "      <td>42.8</td>\n",
       "      <td>0</td>\n",
       "      <td>0.0</td>\n",
       "      <td>0</td>\n",
       "      <td>0</td>\n",
       "      <td>1</td>\n",
       "      <td>NaN</td>\n",
       "      <td>NaN</td>\n",
       "    </tr>\n",
       "    <tr>\n",
       "      <th>1</th>\n",
       "      <td>298.2</td>\n",
       "      <td>308.7</td>\n",
       "      <td>1408</td>\n",
       "      <td>46.3</td>\n",
       "      <td>3</td>\n",
       "      <td>0.0</td>\n",
       "      <td>0</td>\n",
       "      <td>1</td>\n",
       "      <td>0</td>\n",
       "      <td>NaN</td>\n",
       "      <td>NaN</td>\n",
       "    </tr>\n",
       "    <tr>\n",
       "      <th>2</th>\n",
       "      <td>298.1</td>\n",
       "      <td>308.5</td>\n",
       "      <td>1498</td>\n",
       "      <td>49.4</td>\n",
       "      <td>5</td>\n",
       "      <td>0.0</td>\n",
       "      <td>0</td>\n",
       "      <td>1</td>\n",
       "      <td>0</td>\n",
       "      <td>NaN</td>\n",
       "      <td>NaN</td>\n",
       "    </tr>\n",
       "    <tr>\n",
       "      <th>3</th>\n",
       "      <td>298.2</td>\n",
       "      <td>308.6</td>\n",
       "      <td>1433</td>\n",
       "      <td>39.5</td>\n",
       "      <td>7</td>\n",
       "      <td>0.0</td>\n",
       "      <td>0</td>\n",
       "      <td>1</td>\n",
       "      <td>0</td>\n",
       "      <td>NaN</td>\n",
       "      <td>NaN</td>\n",
       "    </tr>\n",
       "    <tr>\n",
       "      <th>4</th>\n",
       "      <td>298.2</td>\n",
       "      <td>308.7</td>\n",
       "      <td>1408</td>\n",
       "      <td>40.0</td>\n",
       "      <td>9</td>\n",
       "      <td>0.0</td>\n",
       "      <td>0</td>\n",
       "      <td>1</td>\n",
       "      <td>0</td>\n",
       "      <td>298.16</td>\n",
       "      <td>308.62</td>\n",
       "    </tr>\n",
       "  </tbody>\n",
       "</table>\n",
       "</div>"
      ],
      "text/plain": [
       "   Air temperature [K]  Process temperature [K]  Rotational speed [rpm]  \\\n",
       "0                298.1                    308.6                    1551   \n",
       "1                298.2                    308.7                    1408   \n",
       "2                298.1                    308.5                    1498   \n",
       "3                298.2                    308.6                    1433   \n",
       "4                298.2                    308.7                    1408   \n",
       "\n",
       "   Torque [Nm]  Tool wear [min]  Output  Type_H  Type_L  Type_M  Air_mean_avg  \\\n",
       "0         42.8                0     0.0       0       0       1           NaN   \n",
       "1         46.3                3     0.0       0       1       0           NaN   \n",
       "2         49.4                5     0.0       0       1       0           NaN   \n",
       "3         39.5                7     0.0       0       1       0           NaN   \n",
       "4         40.0                9     0.0       0       1       0        298.16   \n",
       "\n",
       "   process_mean_avg  \n",
       "0               NaN  \n",
       "1               NaN  \n",
       "2               NaN  \n",
       "3               NaN  \n",
       "4            308.62  "
      ]
     },
     "execution_count": 17,
     "metadata": {},
     "output_type": "execute_result"
    }
   ],
   "source": [
    "df.head()"
   ]
  },
  {
   "cell_type": "code",
   "execution_count": 18,
   "id": "74876e73",
   "metadata": {
    "execution": {
     "iopub.execute_input": "2022-12-25T16:37:39.117814Z",
     "iopub.status.busy": "2022-12-25T16:37:39.117395Z",
     "iopub.status.idle": "2022-12-25T16:37:39.123701Z",
     "shell.execute_reply": "2022-12-25T16:37:39.122382Z"
    },
    "papermill": {
     "duration": 0.018897,
     "end_time": "2022-12-25T16:37:39.126339",
     "exception": false,
     "start_time": "2022-12-25T16:37:39.107442",
     "status": "completed"
    },
    "tags": []
   },
   "outputs": [],
   "source": [
    "df.columns = [x.replace(\"[\", \"\").replace(\"]\", \"\").replace(\" \", \"_\").lower() for x in df.columns]"
   ]
  },
  {
   "cell_type": "code",
   "execution_count": 19,
   "id": "7ed0c897",
   "metadata": {
    "execution": {
     "iopub.execute_input": "2022-12-25T16:37:39.145746Z",
     "iopub.status.busy": "2022-12-25T16:37:39.145319Z",
     "iopub.status.idle": "2022-12-25T16:37:39.158356Z",
     "shell.execute_reply": "2022-12-25T16:37:39.157087Z"
    },
    "papermill": {
     "duration": 0.025975,
     "end_time": "2022-12-25T16:37:39.161042",
     "exception": false,
     "start_time": "2022-12-25T16:37:39.135067",
     "status": "completed"
    },
    "tags": []
   },
   "outputs": [
    {
     "data": {
      "text/plain": [
       "air_temperature_k        0\n",
       "process_temperature_k    0\n",
       "rotational_speed_rpm     0\n",
       "torque_nm                0\n",
       "tool_wear_min            0\n",
       "output                   0\n",
       "type_h                   0\n",
       "type_l                   0\n",
       "type_m                   0\n",
       "air_mean_avg             4\n",
       "process_mean_avg         4\n",
       "dtype: int64"
      ]
     },
     "execution_count": 19,
     "metadata": {},
     "output_type": "execute_result"
    }
   ],
   "source": [
    "df.isnull().sum()"
   ]
  },
  {
   "cell_type": "code",
   "execution_count": 20,
   "id": "5684f948",
   "metadata": {
    "execution": {
     "iopub.execute_input": "2022-12-25T16:37:39.184184Z",
     "iopub.status.busy": "2022-12-25T16:37:39.183730Z",
     "iopub.status.idle": "2022-12-25T16:37:39.190732Z",
     "shell.execute_reply": "2022-12-25T16:37:39.189737Z"
    },
    "papermill": {
     "duration": 0.021241,
     "end_time": "2022-12-25T16:37:39.193436",
     "exception": false,
     "start_time": "2022-12-25T16:37:39.172195",
     "status": "completed"
    },
    "tags": []
   },
   "outputs": [],
   "source": [
    "df.fillna(0, inplace=True)"
   ]
  },
  {
   "cell_type": "code",
   "execution_count": 21,
   "id": "56f9f048",
   "metadata": {
    "execution": {
     "iopub.execute_input": "2022-12-25T16:37:39.214322Z",
     "iopub.status.busy": "2022-12-25T16:37:39.213830Z",
     "iopub.status.idle": "2022-12-25T16:37:39.224477Z",
     "shell.execute_reply": "2022-12-25T16:37:39.223520Z"
    },
    "papermill": {
     "duration": 0.024299,
     "end_time": "2022-12-25T16:37:39.226901",
     "exception": false,
     "start_time": "2022-12-25T16:37:39.202602",
     "status": "completed"
    },
    "tags": []
   },
   "outputs": [
    {
     "data": {
      "text/plain": [
       "air_temperature_k        0\n",
       "process_temperature_k    0\n",
       "rotational_speed_rpm     0\n",
       "torque_nm                0\n",
       "tool_wear_min            0\n",
       "output                   0\n",
       "type_h                   0\n",
       "type_l                   0\n",
       "type_m                   0\n",
       "air_mean_avg             0\n",
       "process_mean_avg         0\n",
       "dtype: int64"
      ]
     },
     "execution_count": 21,
     "metadata": {},
     "output_type": "execute_result"
    }
   ],
   "source": [
    "df.isnull().sum()"
   ]
  },
  {
   "cell_type": "code",
   "execution_count": 22,
   "id": "983b26f5",
   "metadata": {
    "execution": {
     "iopub.execute_input": "2022-12-25T16:37:39.247719Z",
     "iopub.status.busy": "2022-12-25T16:37:39.246965Z",
     "iopub.status.idle": "2022-12-25T16:37:40.517492Z",
     "shell.execute_reply": "2022-12-25T16:37:40.516198Z"
    },
    "papermill": {
     "duration": 1.284062,
     "end_time": "2022-12-25T16:37:40.520445",
     "exception": false,
     "start_time": "2022-12-25T16:37:39.236383",
     "status": "completed"
    },
    "tags": []
   },
   "outputs": [],
   "source": [
    "### Train and test data split\n",
    "\n",
    "from sklearn.model_selection import train_test_split\n",
    "\n",
    "y = df[\"output\"]\n",
    "X = df.drop(\"output\", axis=1)\n",
    "\n",
    "X_train, X_test, y_train, y_test = train_test_split(X, y, test_size=0.33, random_state=42, stratify=y.values)"
   ]
  },
  {
   "cell_type": "code",
   "execution_count": 23,
   "id": "d7f150bb",
   "metadata": {
    "execution": {
     "iopub.execute_input": "2022-12-25T16:37:40.539940Z",
     "iopub.status.busy": "2022-12-25T16:37:40.539547Z",
     "iopub.status.idle": "2022-12-25T16:37:40.557487Z",
     "shell.execute_reply": "2022-12-25T16:37:40.556338Z"
    },
    "papermill": {
     "duration": 0.03097,
     "end_time": "2022-12-25T16:37:40.560345",
     "exception": false,
     "start_time": "2022-12-25T16:37:40.529375",
     "status": "completed"
    },
    "tags": []
   },
   "outputs": [
    {
     "data": {
      "text/html": [
       "<div>\n",
       "<style scoped>\n",
       "    .dataframe tbody tr th:only-of-type {\n",
       "        vertical-align: middle;\n",
       "    }\n",
       "\n",
       "    .dataframe tbody tr th {\n",
       "        vertical-align: top;\n",
       "    }\n",
       "\n",
       "    .dataframe thead th {\n",
       "        text-align: right;\n",
       "    }\n",
       "</style>\n",
       "<table border=\"1\" class=\"dataframe\">\n",
       "  <thead>\n",
       "    <tr style=\"text-align: right;\">\n",
       "      <th></th>\n",
       "      <th>air_temperature_k</th>\n",
       "      <th>process_temperature_k</th>\n",
       "      <th>rotational_speed_rpm</th>\n",
       "      <th>torque_nm</th>\n",
       "      <th>tool_wear_min</th>\n",
       "      <th>type_h</th>\n",
       "      <th>type_l</th>\n",
       "      <th>type_m</th>\n",
       "      <th>air_mean_avg</th>\n",
       "      <th>process_mean_avg</th>\n",
       "    </tr>\n",
       "  </thead>\n",
       "  <tbody>\n",
       "    <tr>\n",
       "      <th>8368</th>\n",
       "      <td>298.9</td>\n",
       "      <td>309.8</td>\n",
       "      <td>1534</td>\n",
       "      <td>42.1</td>\n",
       "      <td>23</td>\n",
       "      <td>0</td>\n",
       "      <td>1</td>\n",
       "      <td>0</td>\n",
       "      <td>298.88</td>\n",
       "      <td>309.80</td>\n",
       "    </tr>\n",
       "    <tr>\n",
       "      <th>1345</th>\n",
       "      <td>298.5</td>\n",
       "      <td>310.0</td>\n",
       "      <td>1804</td>\n",
       "      <td>26.1</td>\n",
       "      <td>22</td>\n",
       "      <td>0</td>\n",
       "      <td>1</td>\n",
       "      <td>0</td>\n",
       "      <td>298.54</td>\n",
       "      <td>310.12</td>\n",
       "    </tr>\n",
       "    <tr>\n",
       "      <th>4699</th>\n",
       "      <td>303.5</td>\n",
       "      <td>311.6</td>\n",
       "      <td>1428</td>\n",
       "      <td>46.2</td>\n",
       "      <td>139</td>\n",
       "      <td>0</td>\n",
       "      <td>1</td>\n",
       "      <td>0</td>\n",
       "      <td>303.42</td>\n",
       "      <td>311.60</td>\n",
       "    </tr>\n",
       "    <tr>\n",
       "      <th>518</th>\n",
       "      <td>297.6</td>\n",
       "      <td>309.5</td>\n",
       "      <td>1924</td>\n",
       "      <td>20.6</td>\n",
       "      <td>37</td>\n",
       "      <td>0</td>\n",
       "      <td>1</td>\n",
       "      <td>0</td>\n",
       "      <td>297.50</td>\n",
       "      <td>309.32</td>\n",
       "    </tr>\n",
       "    <tr>\n",
       "      <th>9197</th>\n",
       "      <td>297.9</td>\n",
       "      <td>308.8</td>\n",
       "      <td>1469</td>\n",
       "      <td>49.0</td>\n",
       "      <td>51</td>\n",
       "      <td>0</td>\n",
       "      <td>0</td>\n",
       "      <td>1</td>\n",
       "      <td>297.92</td>\n",
       "      <td>308.92</td>\n",
       "    </tr>\n",
       "  </tbody>\n",
       "</table>\n",
       "</div>"
      ],
      "text/plain": [
       "      air_temperature_k  process_temperature_k  rotational_speed_rpm  \\\n",
       "8368              298.9                  309.8                  1534   \n",
       "1345              298.5                  310.0                  1804   \n",
       "4699              303.5                  311.6                  1428   \n",
       "518               297.6                  309.5                  1924   \n",
       "9197              297.9                  308.8                  1469   \n",
       "\n",
       "      torque_nm  tool_wear_min  type_h  type_l  type_m  air_mean_avg  \\\n",
       "8368       42.1             23       0       1       0        298.88   \n",
       "1345       26.1             22       0       1       0        298.54   \n",
       "4699       46.2            139       0       1       0        303.42   \n",
       "518        20.6             37       0       1       0        297.50   \n",
       "9197       49.0             51       0       0       1        297.92   \n",
       "\n",
       "      process_mean_avg  \n",
       "8368            309.80  \n",
       "1345            310.12  \n",
       "4699            311.60  \n",
       "518             309.32  \n",
       "9197            308.92  "
      ]
     },
     "execution_count": 23,
     "metadata": {},
     "output_type": "execute_result"
    }
   ],
   "source": [
    "X_train.head()"
   ]
  },
  {
   "cell_type": "code",
   "execution_count": 24,
   "id": "57043b3f",
   "metadata": {
    "execution": {
     "iopub.execute_input": "2022-12-25T16:37:40.580875Z",
     "iopub.status.busy": "2022-12-25T16:37:40.580480Z",
     "iopub.status.idle": "2022-12-25T16:37:40.694436Z",
     "shell.execute_reply": "2022-12-25T16:37:40.693374Z"
    },
    "papermill": {
     "duration": 0.127613,
     "end_time": "2022-12-25T16:37:40.697314",
     "exception": false,
     "start_time": "2022-12-25T16:37:40.569701",
     "status": "completed"
    },
    "tags": []
   },
   "outputs": [],
   "source": [
    "#### Using Boosting model\n",
    "\n",
    "from xgboost import XGBClassifier\n",
    "import time"
   ]
  },
  {
   "cell_type": "code",
   "execution_count": 25,
   "id": "68d108d4",
   "metadata": {
    "execution": {
     "iopub.execute_input": "2022-12-25T16:37:40.717823Z",
     "iopub.status.busy": "2022-12-25T16:37:40.717403Z",
     "iopub.status.idle": "2022-12-25T16:37:41.168949Z",
     "shell.execute_reply": "2022-12-25T16:37:41.168011Z"
    },
    "papermill": {
     "duration": 0.465138,
     "end_time": "2022-12-25T16:37:41.171799",
     "exception": false,
     "start_time": "2022-12-25T16:37:40.706661",
     "status": "completed"
    },
    "tags": []
   },
   "outputs": [
    {
     "data": {
      "text/plain": [
       "XGBClassifier(base_score=0.5, booster='gbtree', callbacks=None,\n",
       "              colsample_bylevel=1, colsample_bynode=1, colsample_bytree=1,\n",
       "              early_stopping_rounds=None, enable_categorical=False,\n",
       "              eval_metric=None, gamma=0, gpu_id=-1, grow_policy='depthwise',\n",
       "              importance_type=None, interaction_constraints='',\n",
       "              learning_rate=0.300000012, max_bin=256, max_cat_to_onehot=4,\n",
       "              max_delta_step=0, max_depth=6, max_leaves=0, min_child_weight=1,\n",
       "              missing=nan, monotone_constraints='()', n_estimators=100,\n",
       "              n_jobs=0, num_parallel_tree=1, predictor='auto', random_state=0,\n",
       "              reg_alpha=0, reg_lambda=1, ...)"
      ]
     },
     "execution_count": 25,
     "metadata": {},
     "output_type": "execute_result"
    }
   ],
   "source": [
    "xgb = XGBClassifier(n_estimators=100)\n",
    "training_start = time.perf_counter()\n",
    "xgb.fit(X_train, y_train)\n"
   ]
  },
  {
   "cell_type": "code",
   "execution_count": 26,
   "id": "6ded5b72",
   "metadata": {
    "execution": {
     "iopub.execute_input": "2022-12-25T16:37:41.193295Z",
     "iopub.status.busy": "2022-12-25T16:37:41.192622Z",
     "iopub.status.idle": "2022-12-25T16:37:41.206735Z",
     "shell.execute_reply": "2022-12-25T16:37:41.205671Z"
    },
    "papermill": {
     "duration": 0.028942,
     "end_time": "2022-12-25T16:37:41.210117",
     "exception": false,
     "start_time": "2022-12-25T16:37:41.181175",
     "status": "completed"
    },
    "tags": []
   },
   "outputs": [],
   "source": [
    "training_end = time.perf_counter()\n",
    "prediction_start = time.perf_counter()\n",
    "preds = xgb.predict(X_test)\n",
    "prediction_end = time.perf_counter()\n",
    "acc_xgb = (preds == y_test).sum().astype(float) / len(preds)*100"
   ]
  },
  {
   "cell_type": "code",
   "execution_count": 27,
   "id": "45a53f6e",
   "metadata": {
    "execution": {
     "iopub.execute_input": "2022-12-25T16:37:41.233503Z",
     "iopub.status.busy": "2022-12-25T16:37:41.233059Z",
     "iopub.status.idle": "2022-12-25T16:37:41.241205Z",
     "shell.execute_reply": "2022-12-25T16:37:41.239820Z"
    },
    "papermill": {
     "duration": 0.021874,
     "end_time": "2022-12-25T16:37:41.243690",
     "exception": false,
     "start_time": "2022-12-25T16:37:41.221816",
     "status": "completed"
    },
    "tags": []
   },
   "outputs": [
    {
     "data": {
      "text/plain": [
       "99.7878787878788"
      ]
     },
     "execution_count": 27,
     "metadata": {},
     "output_type": "execute_result"
    }
   ],
   "source": [
    "acc_xgb"
   ]
  },
  {
   "cell_type": "code",
   "execution_count": null,
   "id": "77ea4896",
   "metadata": {
    "papermill": {
     "duration": 0.009573,
     "end_time": "2022-12-25T16:37:41.262442",
     "exception": false,
     "start_time": "2022-12-25T16:37:41.252869",
     "status": "completed"
    },
    "tags": []
   },
   "outputs": [],
   "source": []
  }
 ],
 "metadata": {
  "kernelspec": {
   "display_name": "Python 3",
   "language": "python",
   "name": "python3"
  },
  "language_info": {
   "codemirror_mode": {
    "name": "ipython",
    "version": 3
   },
   "file_extension": ".py",
   "mimetype": "text/x-python",
   "name": "python",
   "nbconvert_exporter": "python",
   "pygments_lexer": "ipython3",
   "version": "3.7.12"
  },
  "papermill": {
   "default_parameters": {},
   "duration": 15.689442,
   "end_time": "2022-12-25T16:37:42.096087",
   "environment_variables": {},
   "exception": null,
   "input_path": "__notebook__.ipynb",
   "output_path": "__notebook__.ipynb",
   "parameters": {},
   "start_time": "2022-12-25T16:37:26.406645",
   "version": "2.3.4"
  }
 },
 "nbformat": 4,
 "nbformat_minor": 5
}
